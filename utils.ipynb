{
 "cells": [
  {
   "attachments": {},
   "cell_type": "markdown",
   "metadata": {},
   "source": [
    "### RLE encoding and decoding"
   ]
  },
  {
   "cell_type": "code",
   "execution_count": null,
   "metadata": {},
   "outputs": [],
   "source": [
    "from itertools import groupby\n"
   ]
  },
  {
   "cell_type": "code",
   "execution_count": null,
   "metadata": {},
   "outputs": [],
   "source": [
    "\n",
    "def rle_encode(label):\n",
    "    \"\"\"\n",
    "    label: 1-d numpy array\n",
    "    \"\"\"\n",
    "    rle = [f\"{k} {sum(1 for i in g)}\" for k,g in groupby(label)]\n",
    "    rle = \" \".join(rle)\n",
    "    return rle \n",
    "\n",
    "def rle_decode(rle):\n",
    "    \"\"\"\n",
    "    rle: rle encoded string\n",
    "    \"\"\"\n",
    "    rle_arr = rle.split()\n",
    "    rle2label = ''.join([(rle_arr[i]+\" \")*int(rle_arr[i+1]) for i in range(0,len(rle_arr)-1,2)])\n",
    "    return rle2label.strip()"
   ]
  },
  {
   "attachments": {},
   "cell_type": "markdown",
   "metadata": {},
   "source": [
    "### Read .label and .bin file"
   ]
  },
  {
   "cell_type": "code",
   "execution_count": 1,
   "metadata": {},
   "outputs": [],
   "source": [
    "import numpy as np"
   ]
  },
  {
   "cell_type": "code",
   "execution_count": null,
   "metadata": {},
   "outputs": [],
   "source": [
    "data = np.fromfile(\"<.label_file_pth>\",dtype=np.int32)\n",
    "label =data & 0xFFFF"
   ]
  },
  {
   "cell_type": "code",
   "execution_count": null,
   "metadata": {},
   "outputs": [],
   "source": [
    "lidar = np.fromfile(\"<.bin_file_pth>\", dtype=np.float32)\n",
    "lidar = lidar.reshape(-1, 4)"
   ]
  },
  {
   "attachments": {},
   "cell_type": "markdown",
   "metadata": {},
   "source": [
    "#### Judge Submission"
   ]
  },
  {
   "cell_type": "code",
   "execution_count": 7,
   "metadata": {},
   "outputs": [],
   "source": [
    "import pandas as pd\n",
    "import numpy as np\n",
    "from sklearn.metrics import jaccard_score\n",
    "\n",
    "def rle_decode(rle):\n",
    "    rle_arr = rle.split()\n",
    "    rle2label = ''.join([(rle_arr[i]+\" \")*int(rle_arr[i+1]) for i in range(0,len(rle_arr)-1,2)])\n",
    "    return rle2label.strip()\n",
    "\n",
    "def rle2vec(sub,gt):\n",
    "    sub_col =  sub.columns[1]\n",
    "    gt_col =  gt.columns[1]\n",
    "    sub[sub_col] = sub[sub_col].apply(lambda x: rle_decode(x))\n",
    "    gt[gt_col] = gt[gt_col].apply(lambda x: rle_decode(x))  \n",
    "    return sub,gt\n",
    "\n",
    "\n",
    "\n",
    "def calculate_iou(df):\n",
    "    df[\"pcd_iou\"] = df.apply(lambda x: jaccard(x.iloc[1], x.iloc[2]),axis=1)\n",
    "    return df['pcd_iou'].mean()\n",
    " \n",
    "def jaccard(gt, pred):\n",
    "    y_true = np.array([int(i) for i in gt.split(\" \")])\n",
    "    y_pred = np.array([int(i) for i in pred.split(\" \")])\n",
    "    iou = jaccard_score(y_true, y_pred)\n",
    "    return iou\n"
   ]
  },
  {
   "cell_type": "code",
   "execution_count": 8,
   "metadata": {},
   "outputs": [],
   "source": [
    "def check_submission(pred_path,gt_path):\n",
    "    sub = pd.read_csv(pred_path)\n",
    "    gt = pd.read_csv(gt_path)\n",
    "    sub,gt = rle2vec(sub,gt)\n",
    "    \n",
    "    sub.columns = list(gt.columns)\n",
    "    missing_ids =set(gt.iloc[:,0].values)- set(sub.iloc[:,0].values)   \n",
    "    if len(missing_ids)!=0:\n",
    "        return \"missing_ids: \"+\" \".join(list(missing_ids))\n",
    "    \n",
    "    merge = gt.merge(sub,on=[gt.columns[0]])\n",
    "\n",
    "    columns =merge.columns\n",
    "    merge[\"valid\"] = merge.apply(lambda x: len(x[columns[1]])==len(x[columns[2]]),axis=1)\n",
    "    \n",
    "    if len(merge[merge.valid==False])!=0:\n",
    "        return \"Number of points is not correct in: \"+\" \".join(merge[merge.valid==False].iloc[:,0])\n",
    "    print(\"getting miou\")\n",
    "    miou = calculate_iou(merge)\n",
    "    print(\"miou\",miou)\n",
    "    team= pred_path.split(\"/\")[1]\n",
    "    return f\"Test iou: {miou}\""
   ]
  },
  {
   "cell_type": "code",
   "execution_count": 9,
   "metadata": {},
   "outputs": [
    {
     "name": "stdout",
     "output_type": "stream",
     "text": [
      "         ID                                              Label\n",
      "0  B_000000  0 11163 1 2 0 1 1 1 0 2 1 13 0 4 1 43 0 7 1 1 ...\n",
      "1  B_000001  0 11177 1 4 0 1 1 1 0 5 1 3 0 1386 1 1 0 340 1...          ID                                              Label\n",
      "0  T_001864  0 26848 1 41 0 2075 1 45 0 2035 1 48 0 2020 1 ...\n",
      "1  T_002030  0 20665 1 50 0 2028 1 45 0 2031 1 58 0 2022 1 ...\n",
      "------\n",
      "         ID                                              Label\n",
      "0  B_000000  0 0 0 0 0 0 0 0 0 0 0 0 0 0 0 0 0 0 0 0 0 0 0 ...\n",
      "1  B_000001  0 0 0 0 0 0 0 0 0 0 0 0 0 0 0 0 0 0 0 0 0 0 0 ...          ID                                              Label\n",
      "0  T_001864  0 0 0 0 0 0 0 0 0 0 0 0 0 0 0 0 0 0 0 0 0 0 0 ...\n",
      "1  T_002030  0 0 0 0 0 0 0 0 0 0 0 0 0 0 0 0 0 0 0 0 0 0 0 ...\n",
      "------\n",
      "         ID                                            Label_x  \\\n",
      "0  T_001864  0 0 0 0 0 0 0 0 0 0 0 0 0 0 0 0 0 0 0 0 0 0 0 ...   \n",
      "1  T_002030  0 0 0 0 0 0 0 0 0 0 0 0 0 0 0 0 0 0 0 0 0 0 0 ...   \n",
      "\n",
      "                                             Label_y  \n",
      "0  0 0 0 0 0 0 0 0 0 0 0 0 0 0 0 0 0 0 0 0 0 0 0 ...  \n",
      "1  0 0 0 0 0 0 0 0 0 0 0 0 0 0 0 0 0 0 0 0 0 0 0 ...  \n",
      "getting miou\n",
      "miou 0.929160555091052\n"
     ]
    },
    {
     "data": {
      "text/plain": [
       "'Test iou: 0.929160555091052'"
      ]
     },
     "execution_count": 9,
     "metadata": {},
     "output_type": "execute_result"
    }
   ],
   "source": [
    "pred_path = \"baseline/pred_baseline.csv\" # path to your prediction csv\n",
    "gt_path = \"gt_rle.csv\"\n",
    "check_submission(pred_path,gt_path)"
   ]
  },
  {
   "cell_type": "code",
   "execution_count": null,
   "metadata": {},
   "outputs": [],
   "source": []
  }
 ],
 "metadata": {
  "kernelspec": {
   "display_name": "base",
   "language": "python",
   "name": "python3"
  },
  "language_info": {
   "codemirror_mode": {
    "name": "ipython",
    "version": 3
   },
   "file_extension": ".py",
   "mimetype": "text/x-python",
   "name": "python",
   "nbconvert_exporter": "python",
   "pygments_lexer": "ipython3",
   "version": "3.10.8"
  },
  "orig_nbformat": 4,
  "vscode": {
   "interpreter": {
    "hash": "c3fd021302d913fb7a6b57449c3a1769d629deeaeedfc93745ccceabea2039f0"
   }
  }
 },
 "nbformat": 4,
 "nbformat_minor": 2
}
